{
 "cells": [
  {
   "cell_type": "code",
   "execution_count": 16,
   "metadata": {},
   "outputs": [],
   "source": [
    "# ratings = [1,2,7,13,13,8,9,10,8,7,5,13,14,14,8]\n",
    "ratings = [1,2,7,13,14,13,8,9,10,8,7,5,14,15,13,14,14,7,8,5,2]"
   ]
  },
  {
   "cell_type": "code",
   "execution_count": 4,
   "metadata": {},
   "outputs": [],
   "source": [
    "def build_graph(ratings):\n",
    "    graph = {\n",
    "        'root': []\n",
    "    }\n",
    "    \n",
    "    for i, r in enumerate(ratings):\n",
    "        graph[i] = []\n",
    "        r = ratings[i]\n",
    "        if (i > 0) and (r > ratings[i-1]):\n",
    "            graph[i-1].append(i)\n",
    "        else:\n",
    "            if (i > 0) and (r < ratings[i-1]):\n",
    "                graph['root'].append(i)\n",
    "                graph[i].append(i-1)\n",
    "                if (i-1) in graph['root']:\n",
    "                    graph['root'].remove(i-1)\n",
    "            else:\n",
    "               graph['root'].append(i)\n",
    "    return graph"
   ]
  },
  {
   "cell_type": "code",
   "execution_count": 13,
   "metadata": {},
   "outputs": [],
   "source": [
    "def calc_sum(graph, ratings):\n",
    "    sum = 0\n",
    "    sums = {}\n",
    "    queue = [('root', 0)]\n",
    "    depth = 0\n",
    "    while queue:\n",
    "        node, depth = queue.pop(0)\n",
    "        if depth > 0:\n",
    "            if node not in sums:\n",
    "                sums[node] = depth\n",
    "                sum = sum + depth\n",
    "            else:\n",
    "                sum = sum - sums[node] + depth\n",
    "                sums[node] = depth\n",
    "        for neighbour in graph[node]:\n",
    "            queue.append((neighbour, depth+1))\n",
    "    return (sum, sums)"
   ]
  },
  {
   "cell_type": "code",
   "execution_count": 17,
   "metadata": {},
   "outputs": [],
   "source": [
    "graph = build_graph(ratings)\n",
    "sum, sums = calc_sum(graph, ratings)"
   ]
  },
  {
   "cell_type": "code",
   "execution_count": 3,
   "metadata": {},
   "outputs": [
    {
     "data": {
      "text/plain": [
       "5"
      ]
     },
     "execution_count": 3,
     "metadata": {},
     "output_type": "execute_result"
    }
   ],
   "source": [
    "57 // 10"
   ]
  },
  {
   "cell_type": "code",
   "execution_count": 7,
   "metadata": {},
   "outputs": [
    {
     "data": {
      "text/plain": [
       "''"
      ]
     },
     "execution_count": 7,
     "metadata": {},
     "output_type": "execute_result"
    }
   ],
   "source": [
    "''.join(['0']*0)"
   ]
  },
  {
   "cell_type": "code",
   "execution_count": 8,
   "metadata": {},
   "outputs": [
    {
     "data": {
      "text/plain": [
       "'00213'"
      ]
     },
     "execution_count": 8,
     "metadata": {},
     "output_type": "execute_result"
    }
   ],
   "source": [
    "'213'.rjust(5,'0')"
   ]
  },
  {
   "cell_type": "code",
   "execution_count": 9,
   "metadata": {},
   "outputs": [],
   "source": [
    "results = ['00738', '06150', '49200']\n",
    "m = 0\n",
    "for r in results:\n",
    "    m = m + int(r)"
   ]
  },
  {
   "cell_type": "code",
   "execution_count": 10,
   "metadata": {},
   "outputs": [
    {
     "data": {
      "text/plain": [
       "56088"
      ]
     },
     "execution_count": 10,
     "metadata": {},
     "output_type": "execute_result"
    }
   ],
   "source": [
    "m"
   ]
  },
  {
   "cell_type": "code",
   "execution_count": null,
   "metadata": {},
   "outputs": [],
   "source": []
  }
 ],
 "metadata": {
  "kernelspec": {
   "display_name": "base",
   "language": "python",
   "name": "python3"
  },
  "language_info": {
   "codemirror_mode": {
    "name": "ipython",
    "version": 3
   },
   "file_extension": ".py",
   "mimetype": "text/x-python",
   "name": "python",
   "nbconvert_exporter": "python",
   "pygments_lexer": "ipython3",
   "version": "3.9.6"
  }
 },
 "nbformat": 4,
 "nbformat_minor": 2
}
